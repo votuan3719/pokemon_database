{
 "cells": [
  {
   "cell_type": "code",
   "execution_count": 87,
   "metadata": {},
   "outputs": [],
   "source": [
    "import mysql.connector"
   ]
  },
  {
   "cell_type": "code",
   "execution_count": 88,
   "metadata": {},
   "outputs": [],
   "source": [
    "db = mysql.connector.connect(\n",
    "    host=\"localhost\",\n",
    "    user=\"root\",\n",
    "    password=\"password\",\n",
    ")"
   ]
  },
  {
   "cell_type": "code",
   "execution_count": 89,
   "metadata": {},
   "outputs": [],
   "source": [
    "cursor = db.cursor()\n",
    "cursor.execute(\"CREATE DATABASE IF NOT EXISTS pokemon_db\")\n"
   ]
  },
  {
   "cell_type": "code",
   "execution_count": 90,
   "metadata": {},
   "outputs": [],
   "source": [
    "pokemon_db = mysql.connector.connect(\n",
    "    host=\"localhost\",\n",
    "    user=\"root\",\n",
    "    password=\"password\",\n",
    "    database=\"pokemon_db\"\n",
    ")"
   ]
  },
  {
   "cell_type": "code",
   "execution_count": null,
   "metadata": {},
   "outputs": [],
   "source": [
    "sql_pokemons = \"CREATE TABLE IF NOT EXISTS \\\n",
    "    pokemons( \\\n",
    "        id INT, \\\n",
    "        name VARCHAR(255), \\\n",
    "        height INT, \\\n",
    "        weight INT, \\\n",
    "        stats_id INT, \\\n",
    "        PRIMARY KEY (id) \\\n",
    "    )\"\n",
    "\n",
    "cursor = pokemon_db.cursor()\n",
    "cursor.execute(sql_pokemons)"
   ]
  },
  {
   "cell_type": "code",
   "execution_count": null,
   "metadata": {},
   "outputs": [],
   "source": [
    "sql_pokemons_stats = \"CREATE TABLE IF NOT EXISTS \\\n",
    "    pokemons_stats( \\\n",
    "        id INT, \\\n",
    "        hp INT, \\\n",
    "        attack INT, \\\n",
    "        defense INT, \\\n",
    "        special_attack INT, \\\n",
    "        special_defense INT, \\\n",
    "        speed INT, \\\n",
    "        PRIMARY KEY (id) \\\n",
    "    )\"\n",
    "    \n",
    "cursor = pokemon_db.cursor()\n",
    "cursor.execute(sql_pokemons_stats)"
   ]
  },
  {
   "cell_type": "code",
   "execution_count": null,
   "metadata": {},
   "outputs": [],
   "source": [
    "sql_pokemons_generations = \"CREATE TABLE IF NOT EXISTS \\\n",
    "    pokemons_generations( \\\n",
    "        pokemon_id INT, \\\n",
    "        generation_id INT, \\\n",
    "        PRIMARY KEY (pokemon_id, generation_id) \\\n",
    "    )\"\n",
    "\n",
    "sql_generations = \"CREATE TABLE IF NOT EXISTS \\\n",
    "    generations( \\\n",
    "        id INT, \\\n",
    "        generation INT, \\\n",
    "        game VARCHAR(255), \\\n",
    "        PRIMARY KEY (id) \\\n",
    "    )\"\n",
    "    \n",
    "cursor = pokemon_db.cursor()\n",
    "cursor.execute(sql_pokemons_generations)\n",
    "\n",
    "cursor = pokemon_db.cursor()\n",
    "cursor.execute(sql_generations)"
   ]
  },
  {
   "cell_type": "code",
   "execution_count": null,
   "metadata": {},
   "outputs": [],
   "source": [
    "sql_pokemons_types = \"CREATE TABLE IF NOT EXISTS \\\n",
    "    pokemons_types( \\\n",
    "        pokemon_id INT, \\\n",
    "        type_id INT, \\\n",
    "        PRIMARY KEY (pokemon_id, type_id) \\\n",
    "    )\"\n",
    "\n",
    "sql_types = \"CREATE TABLE IF NOT EXISTS \\\n",
    "    types( \\\n",
    "        id INT, \\\n",
    "        name VARCHAR(255), \\\n",
    "        PRIMARY KEY (id) \\\n",
    "    )\"\n",
    "    \n",
    "cursor = pokemon_db.cursor()\n",
    "cursor.execute(sql_pokemons_types)\n",
    "\n",
    "cursor = pokemon_db.cursor()\n",
    "cursor.execute(sql_types)"
   ]
  },
  {
   "cell_type": "code",
   "execution_count": null,
   "metadata": {},
   "outputs": [],
   "source": [
    "sql_pokemons_abilities = \"CREATE TABLE IF NOT EXISTS \\\n",
    "    pokemons_abilities( \\\n",
    "        pokemon_id INT, \\\n",
    "        ability_id INT, \\\n",
    "        PRIMARY KEY (pokemon_id, ability_id) \\\n",
    ")\"\n",
    "\n",
    "sql_abilities = \"CREATE TABLE IF NOT EXISTS \\\n",
    "    abilities( \\\n",
    "    id INT, \\\n",
    "    name VARCHAR(255), \\\n",
    "    description VARCHAR(255), \\\n",
    "    is_hidden VARCHAR(255), \\\n",
    "    PRIMARY KEY (id) \\\n",
    ")\"\n",
    "\n",
    "cursor = pokemon_db.cursor()\n",
    "cursor.execute(sql_pokemons_abilities)\n",
    "\n",
    "cursor = pokemon_db.cursor()\n",
    "cursor.execute(sql_abilities)"
   ]
  },
  {
   "cell_type": "code",
   "execution_count": null,
   "metadata": {},
   "outputs": [],
   "source": [
    "sql_pokemons_moves = \"CREATE TABLE IF NOT EXISTS \\\n",
    "    pokemons_moves( \\\n",
    "        pokemon_id INT, \\\n",
    "        move_id INT, \\\n",
    "        PRIMARY KEY (pokemon_id, move_id) \\\n",
    "    )\"\n",
    "\n",
    "sql_moves = \"CREATE TABLE IF NOT EXISTS \\\n",
    "    moves( \\\n",
    "    id INT, \\\n",
    "    name VARCHAR(255), \\\n",
    "    type VARCHAR(255), \\\n",
    "    category VARCHAR(255), \\\n",
    "    power INT, \\\n",
    "    accuracy INT, \\\n",
    "    pp INT, \\\n",
    "    description VARCHAR(255), \\\n",
    "    PRIMARY KEY (id) \\\n",
    ")\"\n",
    "\n",
    "cursor = pokemon_db.cursor()\n",
    "cursor.execute(sql_pokemons_moves)\n",
    "\n",
    "cursor = pokemon_db.cursor()\n",
    "cursor.execute(sql_moves)"
   ]
  },
  {
   "cell_type": "code",
   "execution_count": 98,
   "metadata": {},
   "outputs": [],
   "source": [
    "sql_foreign_pokemons = \"ALTER TABLE pokemons \\\n",
    " ADD FOREIGN KEY (stats_id) REFERENCES pokemons_stats(id) \\\n",
    "\"\n",
    "cursor = pokemon_db.cursor()\n",
    "cursor.execute(sql_foreign_pokemons)"
   ]
  },
  {
   "cell_type": "code",
   "execution_count": 99,
   "metadata": {},
   "outputs": [],
   "source": [
    "sql_foreign_pokemons_stats = \"ALTER TABLE pokemons_stats \\\n",
    " ADD FOREIGN KEY (id) REFERENCES pokemons(id) \\\n",
    "\"  \n",
    "\n",
    "cursor = pokemon_db.cursor()\n",
    "cursor.execute(sql_foreign_pokemons_stats)"
   ]
  },
  {
   "cell_type": "code",
   "execution_count": 100,
   "metadata": {},
   "outputs": [],
   "source": [
    "sql_foreign_pokemons_generations_1 = \"ALTER TABLE pokemons_generations \\\n",
    "    ADD FOREIGN KEY (pokemon_id) REFERENCES pokemons(id) \\\n",
    "\"\n",
    "sql_foreign_pokemons_generations_2 = \"ALTER TABLE pokemons_generations \\\n",
    "    ADD FOREIGN KEY (generation_id) REFERENCES generations(id) \\\n",
    "\"\n",
    "\n",
    "cursor = pokemon_db.cursor()\n",
    "cursor.execute(sql_foreign_pokemons_generations_1)\n",
    "\n",
    "cursor = pokemon_db.cursor()\n",
    "cursor.execute(sql_foreign_pokemons_generations_2)"
   ]
  },
  {
   "cell_type": "code",
   "execution_count": 101,
   "metadata": {},
   "outputs": [],
   "source": [
    "sql_foreign_pokemons_types_1 = \"ALTER TABLE pokemons_types \\\n",
    " ADD FOREIGN KEY (pokemon_id) REFERENCES pokemons(id) \\\n",
    "\"  \n",
    "sql_foreign_pokemons_types_2 = \"ALTER TABLE pokemons_types \\\n",
    " ADD FOREIGN KEY (type_id) REFERENCES types(id) \\\n",
    "\" \n",
    "\n",
    "cursor = pokemon_db.cursor()\n",
    "cursor.execute(sql_foreign_pokemons_types_1)\n",
    "\n",
    "cursor = pokemon_db.cursor()\n",
    "cursor.execute(sql_foreign_pokemons_types_2)"
   ]
  },
  {
   "cell_type": "code",
   "execution_count": 102,
   "metadata": {},
   "outputs": [],
   "source": [
    "sql_foreign_pokemons_abilities_1 = \"ALTER TABLE pokemons_abilities \\\n",
    " ADD FOREIGN KEY (pokemon_id) REFERENCES pokemons(id) \\\n",
    "\"  \n",
    "sql_foreign_pokemons_abilities_2 = \"ALTER TABLE pokemons_abilities \\\n",
    " ADD FOREIGN KEY (ability_id) REFERENCES abilities(id) \\\n",
    "\" \n",
    "\n",
    "cursor = pokemon_db.cursor()\n",
    "cursor.execute(sql_foreign_pokemons_abilities_1)\n",
    "\n",
    "cursor = pokemon_db.cursor()\n",
    "cursor.execute(sql_foreign_pokemons_abilities_2)"
   ]
  },
  {
   "cell_type": "code",
   "execution_count": 103,
   "metadata": {},
   "outputs": [],
   "source": [
    "sql_foreign_pokemons_moves_1 = \"ALTER TABLE pokemons_moves \\\n",
    " ADD FOREIGN KEY (pokemon_id) REFERENCES pokemons(id) \\\n",
    "\"  \n",
    "sql_foreign_pokemons_moves_2 = \"ALTER TABLE pokemons_moves \\\n",
    " ADD FOREIGN KEY (move_id) REFERENCES moves(id) \\\n",
    "\" \n",
    "\n",
    "cursor = pokemon_db.cursor()\n",
    "cursor.execute(sql_foreign_pokemons_moves_1)\n",
    "\n",
    "cursor = pokemon_db.cursor()\n",
    "cursor.execute(sql_foreign_pokemons_moves_2)"
   ]
  },
  {
   "cell_type": "code",
   "execution_count": null,
   "metadata": {},
   "outputs": [],
   "source": [
    "pokemon_generations = {\n",
    "    1: [\"red\", \"blue\", \"yellow\"],\n",
    "    2: [\"gold\", \"silver\", \"crystal\"],\n",
    "    3: [\"ruby\", \"saphire\", \"emerald\", \"firered\", \"leafgreen\"],\n",
    "    4: [\"diamond\", \"pearl\", \"platinum\", \"heartgold\", \"soulsilver\"]\n",
    "}\n",
    "\n",
    "for generation in pokemon_generations:\n",
    "    for game in pokemon_generations[generation]:\n",
    "        cursor = pokemon_db.cursor()\n",
    "\n",
    "        sql = \"SELECT COUNT(*) FROM generations WHERE game = %s\"\n",
    "        cursor.execute(sql, (game,))\n",
    "        count = cursor.fetchone()[0]\n",
    "\n",
    "        cursor.close()\n",
    "\n",
    "        if count == 0:\n",
    "            sql = \"INSERT INTO generations(generation, game) VALUES (%s, %s)\"\n",
    "            cursor.execute(sql, (generation, game))\n"
   ]
  },
  {
   "cell_type": "code",
   "execution_count": null,
   "metadata": {},
   "outputs": [],
   "source": [
    "pokemon_types = [\"normal\", \"fire\", \"water\", \"electric\", \"grass\", \"ice\", \"fighting\", \"poison\", \"ground\", \"flying\", \"psychic\", \"bug\", \"rock\", \"ghost\", \"dragon\", \"dark\", \"steel\", \"fairy\"]\n",
    "\n",
    "for type_name in pokemon_types:\n",
    "    cursor = pokemon_db.cursor()\n",
    "\n",
    "    sql = \"SELECT COUNT(*) FROM types WHERE name = %s\"\n",
    "    cursor.execute(sql, (type_name,))\n",
    "    count = cursor.fetchone()[0]\n",
    "\n",
    "    cursor.close()\n",
    "\n",
    "    if count == 0:\n",
    "        sql = \"INSERT INTO types(name) VALUES (%s)\"\n",
    "        cursor.execute(sql, (type_name,))"
   ]
  },
  {
   "cell_type": "code",
   "execution_count": 106,
   "metadata": {},
   "outputs": [],
   "source": [
    "pokemon_db.commit()\n",
    "pokemon_db.close()"
   ]
  }
 ],
 "metadata": {
  "kernelspec": {
   "display_name": "python",
   "language": "python",
   "name": "python3"
  },
  "language_info": {
   "codemirror_mode": {
    "name": "ipython",
    "version": 3
   },
   "file_extension": ".py",
   "mimetype": "text/x-python",
   "name": "python",
   "nbconvert_exporter": "python",
   "pygments_lexer": "ipython3",
   "version": "3.11.5"
  }
 },
 "nbformat": 4,
 "nbformat_minor": 2
}
